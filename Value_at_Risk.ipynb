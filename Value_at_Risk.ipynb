{
 "cells": [
  {
   "cell_type": "code",
   "execution_count": 1,
   "id": "b3dc6c69",
   "metadata": {},
   "outputs": [],
   "source": [
    "import pandas as pd\n",
    "import numpy as np\n",
    "from pandas_datareader import data as pdr\n",
    "import datetime as dt"
   ]
  },
  {
   "cell_type": "code",
   "execution_count": 2,
   "id": "bd957a94",
   "metadata": {},
   "outputs": [],
   "source": [
    "def get_data(ticker,start_date,end_date):\n",
    "    StockData = pdr.get_data_yahoo(ticker,start=start_date,end=end_date)\n",
    "    StockPrice = StockData['Adj Close']\n",
    "    returns = StockPrice.pct_change()\n",
    "    avg_return = returns.mean()\n",
    "    CoV_mat = returns.cov()\n",
    "    return returns, avg_return, CoV_mat\n",
    "\n",
    "def Portfolio_Performace(weights, avg_return, CoV_mat, trading_days):\n",
    "    portfolio_returns = np.sum(avg_return*weights)*trading_days\n",
    "    portfolio_risk = np.sqrt(np.dot(weights.T, np.dot(CoV_mat,weights)))*np.sqrt(trading_days)\n",
    "    return portfolio_returns, portfolio_risk\n",
    "    "
   ]
  },
  {
   "cell_type": "code",
   "execution_count": 3,
   "id": "bfe429ca",
   "metadata": {},
   "outputs": [],
   "source": [
    "ticker_list = ['DMART','LAURUSLABS', 'HAVELLS', 'PIIND', 'SBIN']\n",
    "ticker = [i+'.NS' for i in ticker_list]\n",
    "end_date = dt.datetime.today()\n",
    "start_date = end_date - dt.timedelta(days=800)\n",
    "\n",
    "returns, avg_return, CoV_mat = get_data(ticker,start_date,end_date)\n",
    "returns.dropna(inplace=True)\n",
    "\n",
    "weights = np.random.random(len(ticker))\n",
    "weights /= np.sum(weights)\n",
    "\n",
    "returns['Portfolio_return'] = returns.dot(weights)"
   ]
  },
  {
   "cell_type": "code",
   "execution_count": 4,
   "id": "66510f75",
   "metadata": {},
   "outputs": [],
   "source": [
    "def historical_VaR(returns, alpha=5):\n",
    "    \n",
    "    if isinstance(returns, pd.Series):\n",
    "        return np.percentile(returns,alpha)\n",
    "    \n",
    "    elif isinstance(returns, pd.DataFrame):\n",
    "        return returns.agg(historical_VaR,alpha=alpha)\n",
    "    \n",
    "    else:\n",
    "        raise TypeError(\"Expexted returns to be DataFrame or Series\")\n",
    "        \n",
    "def historical_Cond_VaR(returns, alpha=5):\n",
    "    \n",
    "    if isinstance(returns, pd.Series):\n",
    "        below_VaR = returns <= historical_VaR(returns,alpha=alpha)\n",
    "        return returns[below_VaR].mean()\n",
    "    \n",
    "    elif isinstance(returns, pd.DataFrame):\n",
    "        return returns.agg(historical_Cond_VaR,alpha=alpha)\n",
    "    \n",
    "    else:\n",
    "        raise TypeError(\"Expexted returns to be DataFrame or Series\")"
   ]
  },
  {
   "cell_type": "code",
   "execution_count": 5,
   "id": "c81a6c07",
   "metadata": {},
   "outputs": [
    {
     "name": "stdout",
     "output_type": "stream",
     "text": [
      "Expected return of Portfolio in 1 days: 205.59\n",
      "Value at Risk 95th CI: 2229.69\n",
      "Conditional VaR 95th CI: 3050.98\n"
     ]
    }
   ],
   "source": [
    "trading_days = 1 #days\n",
    "Initial_investment = 100000\n",
    "\n",
    "VaR = -historical_VaR(returns.Portfolio_return,alpha=5)\n",
    "CVaR = -historical_Cond_VaR(returns.Portfolio_return,alpha=5)\n",
    "portfolio_returns, portfolio_risk = Portfolio_Performace(weights, avg_return, CoV_mat, trading_days)\n",
    "\n",
    "print(f\"Expected return of Portfolio in {trading_days} days: {np.round(portfolio_returns*Initial_investment,2)}\")\n",
    "print(f\"Value at Risk 95th CI: {np.round(VaR*Initial_investment,2)}\")\n",
    "print(f\"Conditional VaR 95th CI: {np.round(CVaR*Initial_investment,2)}\")"
   ]
  },
  {
   "cell_type": "code",
   "execution_count": null,
   "id": "9fcb2e03",
   "metadata": {},
   "outputs": [],
   "source": []
  }
 ],
 "metadata": {
  "kernelspec": {
   "display_name": "Python 3 (ipykernel)",
   "language": "python",
   "name": "python3"
  },
  "language_info": {
   "codemirror_mode": {
    "name": "ipython",
    "version": 3
   },
   "file_extension": ".py",
   "mimetype": "text/x-python",
   "name": "python",
   "nbconvert_exporter": "python",
   "pygments_lexer": "ipython3",
   "version": "3.10.5"
  }
 },
 "nbformat": 4,
 "nbformat_minor": 5
}
